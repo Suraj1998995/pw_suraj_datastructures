{
  "nbformat": 4,
  "nbformat_minor": 0,
  "metadata": {
    "colab": {
      "provenance": []
    },
    "kernelspec": {
      "name": "python3",
      "display_name": "Python 3"
    },
    "language_info": {
      "name": "python"
    }
  },
  "cells": [
    {
      "cell_type": "markdown",
      "source": [
        "#Data Structures Assignment#\n",
        "\n",
        "\n",
        "###Theory Questions\n",
        "\n",
        "Q1. What are data structures, and why are they important?\n",
        "Ans:\n",
        "Data Structures are ways of organising and storing data.\n",
        "\n",
        "Data structures play an important role in computer science and programming as they are important for maintaining data, manipulations of it along with processing.\n",
        "\n",
        "-----\n",
        "Q2.  Explain the difference between mutable and immutable data types with examples.\n",
        "Ans:\n",
        "Mutable Data Types can be edited after their creation. We can add, remove or modify elements.\n",
        "\n",
        "Example of mutable data types:\n",
        "List\n",
        "Dictionary\n",
        "Set\n",
        "\n",
        "Example with python code:\n",
        "\n",
        "Code:\n",
        "my_list = [1, 2, 3]\n",
        "my_list.append(4)\n",
        "print(my_list)\n",
        "\n",
        "Output:\n",
        "[1, 2, 3, 4]\n",
        "\n",
        "Immutable data types can not be change after their creation. A new object creation is needed to edit the data types.\n",
        "\n",
        "Examples of immutable data types:\n",
        "int\n",
        "float\n",
        "string\n",
        "tuple\n",
        "\n",
        "Example with python code:\n",
        "name = \"Suraj\"\n",
        "name = name + \" Kumar\"  # A new string is created\n",
        "print(name)  # Output: Suraj Kumar\n",
        "\n",
        "-----\n",
        "Q3. What are the main differences between lists and tuples in Python?\n",
        "Ans:\n",
        "Main differences between lists and tuples are defined as per the below factors.\n",
        "\n",
        "Mutable:\n",
        "Lists are mutable but tuples are not.\n",
        "\n",
        "Syntax:\n",
        "Syntax of Lists will be = [1, 2, 3]. [] will be used.\n",
        "Syntax of Tuple will be = (1, 2, 3). () will be used.\n",
        "\n",
        "Built in methods:\n",
        "Lists have more built-in methods (like append(), remove(), sort(), etc)\n",
        "Tuples have very few methods (mainly count() and index())\n",
        "\n",
        "\n",
        "-----\n",
        "Q4. Describe how dictionaries store data?\n",
        "Ans:\n",
        "Dictioneries stores the data as key-value pair. The key maps to a specific value and you can use the key to quickly access the value.\n",
        "\n",
        "Dictionaries use a system called hashing. Each key is passed through a hash functionto get a unique number(hash code).\n",
        "\n",
        "Hashcode decides where the key value pair is stored in memory.\n",
        "\n",
        "\n",
        "-----\n",
        "Q5. Why might you use a set instead of a list in Python?\n",
        "Ans:\n",
        "You might use set instead of list in python because of below mentioned reasons:\n",
        "\n",
        "A. You need to store unique items. Set automatically stores removes duplicates.\n",
        "my_list = [1, 2, 2, 3]\n",
        "my_set = set(my_list)  # {1, 2, 3}\n",
        "\n",
        "\n",
        "B. You want to perform set operations. Sets support operations like union, intersection, difference, etc.\n",
        "a = {1, 2, 3}\n",
        "b = {2, 3, 4}\n",
        "print(a & b)  # intersection → {2, 3}\n",
        "\n",
        "\n",
        "-----\n",
        "Q6. What is a string in Python, and how is it different from a list?\n",
        "Ans:\n",
        "String: Defined using single (' ') or double (\" \") quotes.\n",
        "\n",
        "Data Types:\n",
        "String are sequence of characters and lists are sequence of any data types.\n",
        "\n",
        "Mutability:\n",
        "Strings are Immutable but the Lists are mutable.\n",
        "\n",
        "Modification:\n",
        "Modification is not allowed in string but allowed in lists.\n",
        "\n",
        "Syntax:\n",
        "Syntax for String will be \"Hellow\" and for lists will be [1,2,3]\n",
        "\n",
        "\n",
        "------\n",
        "Q7. How do tuples ensure data integrity in Python?\n",
        "Ans:\n",
        "Tuples ensure data integrity in Python mainly because they are immutable — meaning once a tuple is created, its contents cannot be changed.\n",
        "\n",
        "\n",
        "-----\n",
        "Q8. What is a hash table, and how does it relate to dictionaries in Python?\n",
        "Ans:\n",
        "A hash table is a data structure that stores key-value pairs and allows for fast data lookup using keys.\n",
        "\n",
        "Hashing:\n",
        "When you add a key to a dictionary, Python runs a hash function on the key to convert it into a number (called a hash code).\n",
        "\n",
        "Indexing:\n",
        "This hash code determines where the key-value pair will be stored in memory.\n",
        "\n",
        "Retrieval:\n",
        "When you look up a key, Python uses the hash code to quickly find the value.\n",
        "\n",
        "\n",
        "-----\n",
        "Q9. Can lists contain different data types in Python?\n",
        "Ans:\n",
        "Yes, lists in Python 3 can contain different data types.\n",
        "\n",
        "\n",
        "-----\n",
        "Q10. Explain why strings are immutable in Python\n",
        "Ans:\n",
        "Strings are immutable in Python because once a string is created, it cannot be changed — any operation that seems to change a string actually creates a new string.\n",
        "\n",
        "\n",
        "-----\n",
        "Q11. What advantages do dictionaries offer over lists for certain tasks?\n",
        "Ans:\n",
        "\n",
        "Advantages of dictionaries offered over lists are mentioned below:\n",
        "\n",
        "\n",
        "Fast lookups\n",
        "Dictionaries let you quickly find values by using keys.\n",
        "This is much faster than searching through a list, especially if the list is large.\n",
        "\n",
        "Clear and meaningful structure\n",
        "Dictionaries use key-value pairs, which makes your code more readable.\n",
        "You don’t have to remember index positions like with lists.\n",
        "\n",
        "\n",
        "-----\n",
        "Q12. Describe a scenario where using a tuple would be preferable over a list.\n",
        "Ans:\n",
        "A good scenario where using a tuple is preferable over a list is when you need to store a fixed collection of related values that should not change.\n",
        "\n",
        "Example: Storing GPS Coordinates\n",
        "location = (28.6139, 77.2090)\n",
        "\n",
        "A. The data shouldn't change\n",
        "Coordinates are fixed — you don’t want someone accidentally modifying them. A tuple keeps the data safe.\n",
        "\n",
        "B. Tuples can be used as dictionary keys\n",
        "If you want to use this coordinate as a key in a dictionary (e.g., to store metadata for that location)\n",
        "\n",
        "Python Code:\n",
        "places = {\n",
        "    (28.6139, 77.2090): \"New Delhi\"\n",
        "}\n",
        "\n",
        "Lists can't be used as keys because they're mutable and unhashable.\n",
        "\n",
        "\n",
        "\n",
        "-----\n",
        "Q13. How do sets handle duplicate values in Python?\n",
        "Ans:\n",
        "In Python, sets automatically remove duplicate values. They only store unique items.\n",
        "\n",
        "\n",
        "\n",
        "-----\n",
        "Q14.  How does the “in” keyword work differently for lists and dictionaries?\n",
        "Ans:\n",
        "The in keyword is used in both lists and dictionaries in Python, but it behaves differently depending on the data structure.\n",
        "\n",
        "For lists:\n",
        "in checks if a value exists in the list.\n",
        "\n",
        "my_list = [10, 20, 30]\n",
        "print(20 in my_list)\n",
        "\n",
        "\n",
        "For dictionaries:\n",
        "in checks if a key exists, not the value.\n",
        "\n",
        "my_dict = {\"name\": \"Suraj\", \"age\": 25}\n",
        "print(\"name\" in my_dict)   # True\n",
        "print(\"Suraj\" in my_dict)  # False (because it's a value, not a key)\n",
        "\n",
        "\n",
        "\n",
        "-----\n",
        "Q15. Can you modify the elements of a tuple? Explain why or why notP\n",
        "Ans:\n",
        "No, you cannot modify the elements of a tuple in Python because tuples are immutable. This means that once a tuple is created, its elements cannot be changed, added, or removed.\n",
        "\n",
        "\n",
        "-----\n",
        "Q16.  What is a nested dictionary, and give an example of its use case?\n",
        "Ans:\n",
        "A nested dictionary is a dictionary where values are themselves dictionaries. It’s useful for storing structured or grouped data.\n",
        "\n",
        "Example:\n",
        "Let’s say you want to store student records with their details:\n",
        "\n",
        "Python code:\n",
        "students = {\n",
        "    \"1023\": {\"name\": \"Amit\", \"age\": 14, \"grade\": \"A\"},\n",
        "    \"1022\": {\"name\": \"Neha\", \"age\": 16, \"grade\": \"B\"},\n",
        "    \"1033\": {\"name\": \"Rahul\", \"age\": 18, \"grade\": \"A\"}\n",
        "}\n",
        "\n",
        "\n",
        "-----\n",
        "Q17.  Describe the time complexity of accessing elements in a dictionary?\n",
        "Ans:\n",
        "Accessing elements in a dictionary in Python has an average-case time complexity of O(1) — meaning it takes constant time, no matter how big the dictionary is.\n",
        "\n",
        "\n",
        "-----\n",
        "Q18. In what situations are lists preferred over dictionaries?\n",
        "Ans:\n",
        "Order matters:\n",
        "If you care about the position of items or want to keep them in a specific sequence, a list is the better choice.\n",
        "\n",
        "You don’t need named keys\n",
        "When your data doesn’t need labels and you just want to store values one after another.\n",
        "\n",
        "You’re working with duplicates\n",
        "Lists can store the same value multiple times, while dictionaries can’t have duplicate keys.\n",
        "\n",
        "\n",
        "-----\n",
        "Q19.  Why are dictionaries considered unordered, and how does that affect data retrieval?\n",
        "Ans:\n",
        "Dictionaries in Python were traditionally considered unordered because they stored key-value pairs without guaranteeing the order of insertion. This meant that the order in which you added items wasn’t preserved when you retrieved or iterated through them.\n",
        "\n",
        "\n",
        "-----\n",
        "Q20.\n",
        "\n",
        "Ans:\n",
        "The main difference between a list and a dictionary in terms of data retrieval is how you access the data:\n",
        "\n",
        "Lists use index-based access\n",
        "You retrieve items by their position (index) in the list.\n",
        "Indexes are numbers starting from 0.\n",
        "\n",
        "Example:\n",
        "fruits = [\"apple\", \"banana\", \"cherry\"]\n",
        "print(fruits[1])  # Output: banana\n",
        "\n",
        "\n",
        "Dictionaries use key-based access\n",
        "You retrieve values using keys (which can be strings, numbers, etc.).\n",
        "Each key maps to a value.\n",
        "\n",
        "person = {\"name\": \"Suraj\", \"age\": 25}\n",
        "print(person[\"name\"])  # Output: Suraj\n",
        "###\n",
        "\n",
        "\n",
        "\n",
        "\n",
        "\n",
        "\n",
        "\n"
      ],
      "metadata": {
        "id": "t5qds1Yc0bII"
      }
    },
    {
      "cell_type": "code",
      "execution_count": 4,
      "metadata": {
        "colab": {
          "base_uri": "https://localhost:8080/"
        },
        "id": "m-oE01rH0Xln",
        "outputId": "1b4040f6-6def-454f-9f74-c076b336981b"
      },
      "outputs": [
        {
          "output_type": "stream",
          "name": "stdout",
          "text": [
            "Suraj\n"
          ]
        }
      ],
      "source": [
        "### Write a code to create a string with your name and print it###\n",
        "\n",
        "name = \"Suraj\"\n",
        "print(name)"
      ]
    },
    {
      "cell_type": "code",
      "source": [
        "#Write a code to find the length of the string \"Hello World\"#\n",
        "\n",
        "name = \"Suraj Kumar\"\n",
        "print(len(name))"
      ],
      "metadata": {
        "colab": {
          "base_uri": "https://localhost:8080/"
        },
        "id": "RwHcuJ8DdEQ1",
        "outputId": "fc17a265-bf52-49fd-f397-5e216e7fe28c"
      },
      "execution_count": 6,
      "outputs": [
        {
          "output_type": "stream",
          "name": "stdout",
          "text": [
            "11\n"
          ]
        }
      ]
    },
    {
      "cell_type": "code",
      "source": [
        "#Write a code to slice the first 3 characters from the string \"Python Programming\"#\n",
        "\n",
        "obj = \"Python Programming\"\n",
        "print(obj[:3])"
      ],
      "metadata": {
        "colab": {
          "base_uri": "https://localhost:8080/"
        },
        "id": "rJD-XtERdQNZ",
        "outputId": "72b0eef3-f75c-4934-abc9-6e20cf9e5ece"
      },
      "execution_count": 9,
      "outputs": [
        {
          "output_type": "stream",
          "name": "stdout",
          "text": [
            "Pyt\n"
          ]
        }
      ]
    },
    {
      "cell_type": "code",
      "source": [
        "#Write a code to convert the string \"hello\" to uppercase#\n",
        "\n",
        "obj = \"hello\"\n",
        "print(obj.upper())"
      ],
      "metadata": {
        "colab": {
          "base_uri": "https://localhost:8080/"
        },
        "id": "ucj2Na0Id9oy",
        "outputId": "59fabfeb-cc3a-4fae-9b55-f566a84bec42"
      },
      "execution_count": 12,
      "outputs": [
        {
          "output_type": "stream",
          "name": "stdout",
          "text": [
            "HELLO\n"
          ]
        }
      ]
    },
    {
      "cell_type": "code",
      "source": [
        "#Write a code to replace the word \"apple\" with \"orange\" in the string \"I like apple\"P#\n",
        "\n",
        "obj = \"I like apple\"\n",
        "print(obj.replace(\"apple\", \"orange\"))"
      ],
      "metadata": {
        "colab": {
          "base_uri": "https://localhost:8080/"
        },
        "id": "XMvhPWQpeTfv",
        "outputId": "e64cb175-595b-4c6a-9661-fe119b5c7420"
      },
      "execution_count": 16,
      "outputs": [
        {
          "output_type": "stream",
          "name": "stdout",
          "text": [
            "I like orange\n"
          ]
        }
      ]
    },
    {
      "cell_type": "code",
      "source": [
        "#Write a code to create a list with numbers 1 to 5 and print it#\n",
        "\n",
        "lis = [1, 2, 3, 4, 5]\n",
        "print(lis)"
      ],
      "metadata": {
        "colab": {
          "base_uri": "https://localhost:8080/"
        },
        "id": "IG3rpRWsesze",
        "outputId": "cefaf7ee-dd95-4561-a7b6-c180d74813fa"
      },
      "execution_count": 20,
      "outputs": [
        {
          "output_type": "stream",
          "name": "stdout",
          "text": [
            "[1, 2, 3, 4, 5]\n"
          ]
        }
      ]
    },
    {
      "cell_type": "code",
      "source": [
        "#Write a code to append the number 10 to the list [1, 2, 3, 4]#\n",
        "\n",
        "lis = [1, 2, 3, 4]\n",
        "lis.append(10)\n",
        "print(lis)"
      ],
      "metadata": {
        "colab": {
          "base_uri": "https://localhost:8080/"
        },
        "id": "_vSJTevIfOxm",
        "outputId": "ec3bf9c5-a8bc-4dd0-b28a-2a7d1b4ea724"
      },
      "execution_count": 24,
      "outputs": [
        {
          "output_type": "stream",
          "name": "stdout",
          "text": [
            "[1, 2, 3, 4, 10]\n"
          ]
        }
      ]
    },
    {
      "cell_type": "code",
      "source": [
        "#Write a code to remove the number 3 from the list [1, 2, 3, 4, 5]#\n",
        "\n",
        "lis = [1, 2, 3, 4, 5]\n",
        "lis.remove(3)\n",
        "print(lis)"
      ],
      "metadata": {
        "colab": {
          "base_uri": "https://localhost:8080/"
        },
        "id": "S-soEkWnf228",
        "outputId": "e6b8aea0-1655-4d03-f05e-27323d735d09"
      },
      "execution_count": 27,
      "outputs": [
        {
          "output_type": "stream",
          "name": "stdout",
          "text": [
            "[1, 2, 4, 5]\n"
          ]
        }
      ]
    },
    {
      "cell_type": "code",
      "source": [
        "#Write a code to access the second element in the list ['a', 'b', 'c', 'd']#\n",
        "\n",
        "lis = ['a', 'b', 'c', 'd']\n",
        "print(lis[1])"
      ],
      "metadata": {
        "colab": {
          "base_uri": "https://localhost:8080/"
        },
        "id": "8WUhoSyZgOKD",
        "outputId": "885d64a9-dcbf-4073-ad47-eb9d4a2b6af9"
      },
      "execution_count": 29,
      "outputs": [
        {
          "output_type": "stream",
          "name": "stdout",
          "text": [
            "b\n"
          ]
        }
      ]
    },
    {
      "cell_type": "code",
      "source": [
        "#Write a code to reverse the list [10, 20, 30, 40, 50]#\n",
        "\n",
        "lis = [10, 20, 30, 40, 50]\n",
        "lis.reverse()\n",
        "print(lis)\n",
        "\n"
      ],
      "metadata": {
        "colab": {
          "base_uri": "https://localhost:8080/"
        },
        "id": "XRb6QMoxgmDR",
        "outputId": "35124072-6666-4dd1-c711-d7afca300267"
      },
      "execution_count": 32,
      "outputs": [
        {
          "output_type": "stream",
          "name": "stdout",
          "text": [
            "[50, 40, 30, 20, 10]\n"
          ]
        }
      ]
    },
    {
      "cell_type": "code",
      "source": [
        "#Write a code to create a tuple with the elements 100, 200, 300 and print it.#\n",
        "\n",
        "tup = (100, 200, 300)\n",
        "print(tup)"
      ],
      "metadata": {
        "colab": {
          "base_uri": "https://localhost:8080/"
        },
        "id": "IHUnpmOahlCR",
        "outputId": "d75621fe-6351-4e06-f4d1-6f4f2d4bf039"
      },
      "execution_count": 34,
      "outputs": [
        {
          "output_type": "stream",
          "name": "stdout",
          "text": [
            "(100, 200, 300)\n"
          ]
        }
      ]
    },
    {
      "cell_type": "code",
      "source": [
        "#Write a code to access the second-to-last element of the tuple ('red', 'green', 'blue', 'yellow')#\n",
        "\n",
        "tup = ('red', 'green', 'blue', 'yellow')\n",
        "print(tup[-2])"
      ],
      "metadata": {
        "colab": {
          "base_uri": "https://localhost:8080/"
        },
        "id": "2f_B2VcAh49n",
        "outputId": "6672333b-f12e-4e23-d891-a534c0593bac"
      },
      "execution_count": 37,
      "outputs": [
        {
          "output_type": "stream",
          "name": "stdout",
          "text": [
            "blue\n"
          ]
        }
      ]
    },
    {
      "cell_type": "code",
      "source": [
        "#Write a code to find the minimum number in the tuple (10, 20, 5, 15)#\n",
        "\n",
        "tup = (10, 20, 5, 15)\n",
        "print(min(tup))"
      ],
      "metadata": {
        "colab": {
          "base_uri": "https://localhost:8080/"
        },
        "id": "oRUiBRRmi6Sx",
        "outputId": "ccd2b972-0c26-4d78-8276-7028ff0a9305"
      },
      "execution_count": 40,
      "outputs": [
        {
          "output_type": "stream",
          "name": "stdout",
          "text": [
            "5\n"
          ]
        }
      ]
    },
    {
      "cell_type": "code",
      "source": [
        "#Write a code to find the index of the element \"cat\" in the tuple ('dog', 'cat', 'rabbit')#\n",
        "\n",
        "tup = ('dog', 'cat', 'rabbit')\n",
        "print(tup.index('cat'))"
      ],
      "metadata": {
        "colab": {
          "base_uri": "https://localhost:8080/"
        },
        "id": "FZSlgFLGjXxQ",
        "outputId": "891d7729-87e9-4aad-9ce3-797729f10a64"
      },
      "execution_count": 42,
      "outputs": [
        {
          "output_type": "stream",
          "name": "stdout",
          "text": [
            "1\n"
          ]
        }
      ]
    },
    {
      "cell_type": "code",
      "source": [
        "# Write a code to create a tuple containing three different fruits and check if \"kiwi\" is in it.#\n",
        "\n",
        "tup = ('apple', 'banana', 'kiwi')\n",
        "is_kiwi_present = 'kiwi' in tup\n",
        "print(is_kiwi_present)"
      ],
      "metadata": {
        "colab": {
          "base_uri": "https://localhost:8080/"
        },
        "id": "N-Tt0T_sj5Yk",
        "outputId": "c4233d5c-8f5a-4dd0-dd24-362fae3501a0"
      },
      "execution_count": 46,
      "outputs": [
        {
          "output_type": "stream",
          "name": "stdout",
          "text": [
            "True\n"
          ]
        }
      ]
    },
    {
      "cell_type": "code",
      "source": [
        " #Write a code to create a set with the elements 'a', 'b', 'c' and print it.#\n",
        "\n",
        " elements = {'a', 'b', 'c'}\n",
        " print(elements)\n"
      ],
      "metadata": {
        "colab": {
          "base_uri": "https://localhost:8080/"
        },
        "id": "tkgsw454m7lk",
        "outputId": "e1f1010d-6e3c-4793-9e63-640be3092b34"
      },
      "execution_count": 48,
      "outputs": [
        {
          "output_type": "stream",
          "name": "stdout",
          "text": [
            "{'a', 'c', 'b'}\n"
          ]
        }
      ]
    },
    {
      "cell_type": "code",
      "source": [
        "#Write a code to clear all elements from the set {1, 2, 3, 4, 5}.#\n",
        "\n",
        "elements = {1, 2, 3, 4, 5}\n",
        "elements.clear()\n",
        "print(elements)"
      ],
      "metadata": {
        "colab": {
          "base_uri": "https://localhost:8080/"
        },
        "id": "I78D4yxYnTHs",
        "outputId": "13d6d4ce-eee8-4267-9e90-8963df9c2800"
      },
      "execution_count": 51,
      "outputs": [
        {
          "output_type": "stream",
          "name": "stdout",
          "text": [
            "set()\n"
          ]
        }
      ]
    },
    {
      "cell_type": "code",
      "source": [
        " #Write a code to remove the element 4 from the set {1, 2, 3, 4}#\n",
        "\n",
        " elements = {1, 2, 3, 4}\n",
        " elements.remove(4)\n",
        " print(elements)"
      ],
      "metadata": {
        "colab": {
          "base_uri": "https://localhost:8080/"
        },
        "id": "nUFn2jrnn41j",
        "outputId": "79a99be0-e8c5-45cb-d3bf-0416acd5726a"
      },
      "execution_count": 55,
      "outputs": [
        {
          "output_type": "stream",
          "name": "stdout",
          "text": [
            "{1, 2, 3}\n"
          ]
        }
      ]
    },
    {
      "cell_type": "code",
      "source": [
        "#Write a code to find the union of two sets {1, 2, 3} and {3, 4, 5}#\n",
        "\n",
        "set1 = {1, 2, 3}\n",
        "set2 = {3, 4, 5}\n",
        "union_set = set1.union(set2)\n",
        "print(union_set)"
      ],
      "metadata": {
        "colab": {
          "base_uri": "https://localhost:8080/"
        },
        "id": "8P1kU23NoZjh",
        "outputId": "31149bed-018f-4188-c8b1-5d100a89ea17"
      },
      "execution_count": 57,
      "outputs": [
        {
          "output_type": "stream",
          "name": "stdout",
          "text": [
            "{1, 2, 3, 4, 5}\n"
          ]
        }
      ]
    },
    {
      "cell_type": "code",
      "source": [
        " #Write a code to find the intersection of two sets {1, 2, 3} and {2, 3, 4}.#\n",
        "\n",
        "set1 = {1, 2, 3}\n",
        "set2 = {2, 3, 4}\n",
        "intersection_set = set1.intersection(set2)\n",
        "print(intersection_set)"
      ],
      "metadata": {
        "colab": {
          "base_uri": "https://localhost:8080/"
        },
        "id": "VpUTfBdAonPm",
        "outputId": "2461ecd8-70b0-4542-f3fd-4db86b447527"
      },
      "execution_count": 59,
      "outputs": [
        {
          "output_type": "stream",
          "name": "stdout",
          "text": [
            "{2, 3}\n"
          ]
        }
      ]
    },
    {
      "cell_type": "code",
      "source": [
        "#Write a code to create a dictionary with the keys \"name\", \"age\", and \"city\", and print it.#\n",
        "\n",
        "dic = {\"name\": \"Suraj\", \"age\" : 25, \"city\": \"New Delhi\"}\n",
        "print(dic)"
      ],
      "metadata": {
        "colab": {
          "base_uri": "https://localhost:8080/"
        },
        "id": "BpraZsCbov9x",
        "outputId": "2a3bebd6-7cfd-490b-dab5-6e452742f7f0"
      },
      "execution_count": 62,
      "outputs": [
        {
          "output_type": "stream",
          "name": "stdout",
          "text": [
            "{'name': 'Suraj', 'age': 25, 'city': 'New Delhi'}\n"
          ]
        }
      ]
    },
    {
      "cell_type": "code",
      "source": [
        "#Write a code to add a new key-value pair \"country\": \"USA\" to the dictionary {'name': 'John', 'age': 25}#\n",
        "\n",
        "dict = {'name': 'John', 'age': 25}\n",
        "dict[\"country\"] = \"USA\"\n",
        "print(dict)"
      ],
      "metadata": {
        "colab": {
          "base_uri": "https://localhost:8080/"
        },
        "id": "0IlFBCTapX1K",
        "outputId": "3babae02-b297-4de0-f8a3-98201a7720ca"
      },
      "execution_count": 65,
      "outputs": [
        {
          "output_type": "stream",
          "name": "stdout",
          "text": [
            "{'name': 'John', 'age': 25, 'country': 'USA'}\n"
          ]
        }
      ]
    },
    {
      "cell_type": "code",
      "source": [],
      "metadata": {
        "id": "gmYPGN18qVc8"
      },
      "execution_count": null,
      "outputs": []
    },
    {
      "cell_type": "code",
      "source": [
        "#Write a code to access the value associated with the key \"name\" in the dictionary {'name': 'Alice', 'age': 30}.#\n",
        "\n",
        "dict = {'name': 'Alice', 'age': 30}\n",
        "print(dict['name'])"
      ],
      "metadata": {
        "colab": {
          "base_uri": "https://localhost:8080/"
        },
        "id": "1eVEIE7hp-kn",
        "outputId": "3bf3591a-dae2-43d9-9103-c820958a5294"
      },
      "execution_count": 67,
      "outputs": [
        {
          "output_type": "stream",
          "name": "stdout",
          "text": [
            "Alice\n"
          ]
        }
      ]
    },
    {
      "cell_type": "code",
      "source": [
        "#Write a code to remove the key \"age\" from the dictionary {'name': 'Bob', 'age': 22, 'city': 'New York'}#\n",
        "\n",
        "dict = {'name': 'Bob', 'age': 22, 'city': 'New York'}\n",
        "del dict['age']\n",
        "print(dict)"
      ],
      "metadata": {
        "colab": {
          "base_uri": "https://localhost:8080/"
        },
        "id": "y36xHriwqdcz",
        "outputId": "9e04a92c-9f4d-42ce-e5de-980d65448c8d"
      },
      "execution_count": 70,
      "outputs": [
        {
          "output_type": "stream",
          "name": "stdout",
          "text": [
            "{'name': 'Bob', 'city': 'New York'}\n"
          ]
        }
      ]
    },
    {
      "cell_type": "code",
      "source": [
        " #Write a code to check if the key \"city\" exists in the dictionary {'name': 'Alice', 'city': 'Paris'}#\n",
        "\n",
        "dict = {'name': 'Alice', 'city': 'Paris'}\n",
        "if 'city' in dict:\n",
        "    print(\"The key 'city' in the dictionary.\")\n",
        "else:\n",
        "    print(\"The key 'city' not in the dictionary.\")"
      ],
      "metadata": {
        "colab": {
          "base_uri": "https://localhost:8080/"
        },
        "id": "NPiPiwyKq7qq",
        "outputId": "0dac97c5-d690-4f2d-b061-e138bdd04816"
      },
      "execution_count": 72,
      "outputs": [
        {
          "output_type": "stream",
          "name": "stdout",
          "text": [
            "The key 'city' in the dictionary.\n"
          ]
        }
      ]
    },
    {
      "cell_type": "code",
      "source": [
        "#Write a code to create a list, a tuple, and a dictionary, and print them all.#\n",
        "\n",
        "lis = [1, 2, 3, 4]\n",
        "\n",
        "tup = (1, 2, 5)\n",
        "\n",
        "dict = {'name': 'Suraj', 'age':25}\n",
        "\n",
        "print(\"List:\", lis)\n",
        "print(\"tup:\", tup)\n",
        "print(\"dict:\", dict)"
      ],
      "metadata": {
        "colab": {
          "base_uri": "https://localhost:8080/"
        },
        "id": "DoClRLsculAA",
        "outputId": "0fdf5b88-6396-4e5c-c9a9-4c1d491aa51d"
      },
      "execution_count": 74,
      "outputs": [
        {
          "output_type": "stream",
          "name": "stdout",
          "text": [
            "List: [1, 2, 3, 4]\n",
            "tup: (1, 2, 5)\n",
            "dict: {'name': 'Suraj', 'age': 25}\n"
          ]
        }
      ]
    },
    {
      "cell_type": "code",
      "source": [
        "#Write a code to create a list of 5 random numbers between 1 and 100, sort it in ascending order, and print the\n",
        "result.(replaced)#\n"
      ],
      "metadata": {
        "colab": {
          "base_uri": "https://localhost:8080/",
          "height": 108
        },
        "id": "-Fca4MotvvPG",
        "outputId": "a1597b92-c484-4b75-f8ec-80d55f06f457"
      },
      "execution_count": 76,
      "outputs": [
        {
          "output_type": "error",
          "ename": "SyntaxError",
          "evalue": "invalid syntax (<ipython-input-76-c0cc87054ecc>, line 2)",
          "traceback": [
            "\u001b[0;36m  File \u001b[0;32m\"<ipython-input-76-c0cc87054ecc>\"\u001b[0;36m, line \u001b[0;32m2\u001b[0m\n\u001b[0;31m    result.(replaced)#\u001b[0m\n\u001b[0m           ^\u001b[0m\n\u001b[0;31mSyntaxError\u001b[0m\u001b[0;31m:\u001b[0m invalid syntax\n"
          ]
        }
      ]
    },
    {
      "cell_type": "code",
      "source": [
        " #Write a code to create a list with strings and print the element at the third index.#\n",
        "\n",
        " lis = ['Suraj', 'money', 'tablet', 'delhi']\n",
        " print(lis[3])\n"
      ],
      "metadata": {
        "colab": {
          "base_uri": "https://localhost:8080/"
        },
        "id": "RZdSC0PpzVDT",
        "outputId": "2c2b6609-1c79-4534-dd48-6a82d73b94bd"
      },
      "execution_count": 78,
      "outputs": [
        {
          "output_type": "stream",
          "name": "stdout",
          "text": [
            "delhi\n"
          ]
        }
      ]
    },
    {
      "cell_type": "code",
      "source": [],
      "metadata": {
        "id": "CHU_rUflz0mS"
      },
      "execution_count": null,
      "outputs": []
    },
    {
      "cell_type": "code",
      "source": [
        "#Write a code to combine two dictionaries into one and print the result.#\n",
        "\n",
        "dict1 = {'name1': 'Suraj', 'age1':12, 'state1' : 'delhi'}\n",
        "dict2 = {'name2': 'Ramesh', 'age2': 13, 'state2' : 'Mumbai'}\n",
        "\n",
        "sum_dict = {**dict1, **dict2}\n",
        "print(sum_dict)"
      ],
      "metadata": {
        "colab": {
          "base_uri": "https://localhost:8080/"
        },
        "id": "JD6h1CR-zqsh",
        "outputId": "ce3314f1-f228-48cc-976d-43159e02ca87"
      },
      "execution_count": 83,
      "outputs": [
        {
          "output_type": "stream",
          "name": "stdout",
          "text": [
            "{'name1': 'Suraj', 'age1': 12, 'state1': 'delhi', 'name2': 'Ramesh', 'age2': 13, 'state2': 'Mumbai'}\n"
          ]
        }
      ]
    },
    {
      "cell_type": "code",
      "source": [
        "#Write a code to convert a list of strings into a set.#\n",
        "\n",
        "lis = ['name', 'cricket', 'fame']\n",
        "list_to_set = set(lis)\n",
        "print(list_to_set)"
      ],
      "metadata": {
        "colab": {
          "base_uri": "https://localhost:8080/"
        },
        "id": "CdxVkU3K074O",
        "outputId": "fff18d0e-c02c-44d5-ab57-1d8ecbcde74f"
      },
      "execution_count": 84,
      "outputs": [
        {
          "output_type": "stream",
          "name": "stdout",
          "text": [
            "{'name', 'fame', 'cricket'}\n"
          ]
        }
      ]
    }
  ]
}